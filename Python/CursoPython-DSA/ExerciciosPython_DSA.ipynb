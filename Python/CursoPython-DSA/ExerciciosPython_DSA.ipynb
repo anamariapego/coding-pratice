{
  "nbformat": 4,
  "nbformat_minor": 0,
  "metadata": {
    "colab": {
      "private_outputs": true,
      "provenance": []
    },
    "kernelspec": {
      "name": "python3",
      "display_name": "Python 3"
    },
    "language_info": {
      "name": "python"
    }
  },
  "cells": [
    {
      "cell_type": "markdown",
      "source": [
        "\n",
        "\n",
        "## Objetivo do Notebook\n",
        "\n",
        "Este notebook é dedicado às listas de exercícios em Python que serão desenvolvidas ao longo do curso.\n",
        "\n",
        "As listas fazem parte do curso [Fundamentos de Linguagem Python Para Análise de Dados e Data Science](https://www.datascienceacademy.com.br/course/fundamentos-de-linguagem-python-para-analise-de-dados-e-data-science),  oferecido pela plataforma **Data Science Academy**\n",
        "\n",
        "Cada lista corresponderá a um capítulo do curso, abordando diferentes tópicos de forma prática."
      ],
      "metadata": {
        "id": "j9fZAp3dgfxD"
      }
    },
    {
      "cell_type": "markdown",
      "source": [
        "### Lista de Exercícios - Variáveis, Tipos e Estrutura de Dados\n"
      ],
      "metadata": {
        "id": "2sgo0F_GihDd"
      }
    },
    {
      "cell_type": "code",
      "execution_count": null,
      "metadata": {
        "id": "utXJBe4tge9V"
      },
      "outputs": [],
      "source": [
        "# Exercício 1 - Imprima na tela os números de 1 a 10. Use uma lista para armazenar os números.\n",
        "\n",
        "list1 = list(range(0,11))\n",
        "print(list1)"
      ]
    },
    {
      "cell_type": "code",
      "source": [
        "# Exercício 2 - Crie uma lista de 5 objetos e imprima na tela\n",
        "\n",
        "list2 = ['Maria', [0,1,2], 9.8, 34, 'Paulo']\n",
        "print(list2)"
      ],
      "metadata": {
        "id": "a7wmg417LTkx"
      },
      "execution_count": null,
      "outputs": []
    },
    {
      "cell_type": "code",
      "source": [
        "# Exercício 3 - Crie duas strings e concatene as duas em uma terceira string\n",
        "\n",
        "string1 = 'Maria'\n",
        "string2 = 'Gomes'\n",
        "\n",
        "string3 = string1 + ' ' + string2\n",
        "print(string3)"
      ],
      "metadata": {
        "id": "i2guBtfALzTu"
      },
      "execution_count": null,
      "outputs": []
    },
    {
      "cell_type": "code",
      "source": [
        "# Exercício 4 - Crie uma tupla com os seguintes elementos: 1, 2, 2, 3, 4, 4, 4, 5 e depois utilize a função count do\n",
        "# objeto tupla para verificar quantas vezes o número 4 aparece na tupla\n",
        "\n",
        "tupla1 = (1, 2, 2, 3, 4, 4, 4, 5)\n",
        "tupla1.count(4)"
      ],
      "metadata": {
        "id": "mQOXUvDNLzWR"
      },
      "execution_count": null,
      "outputs": []
    },
    {
      "cell_type": "code",
      "source": [
        "# Exercício 5 - Crie um dicionário vazio e imprima na tela\n",
        "\n",
        "dict1 = {}\n",
        "print(dict1)"
      ],
      "metadata": {
        "id": "HOlEakbjLzY7"
      },
      "execution_count": null,
      "outputs": []
    },
    {
      "cell_type": "code",
      "source": [
        "# Exercício 6 - Crie um dicionário com 3 chaves e 3 valores e imprima na tela\n",
        "\n",
        "dict2 = {'Nome': 'Maria', 'Idade': 49, 'Cidade': 'BH'}\n",
        "print(dict2)"
      ],
      "metadata": {
        "id": "SXPbnnsoLzbh"
      },
      "execution_count": null,
      "outputs": []
    },
    {
      "cell_type": "code",
      "source": [
        "# Exercício 7 - Adicione mais um elemento ao dicionário criado no exercício anterior e imprima na tela\n",
        "\n",
        "dict2['Estudante'] = 'S'\n",
        "print(dict2)"
      ],
      "metadata": {
        "id": "-rFHV703Lzel"
      },
      "execution_count": null,
      "outputs": []
    },
    {
      "cell_type": "code",
      "source": [
        "# Exercício 8 - Crie um dicionário com 3 chaves e 3 valores.\n",
        "# Um dos valores deve ser uma lista de 2 elementos numéricos.\n",
        "# Imprima o dicionário na tela.\n",
        "\n",
        "dict3 = {'Lista': [1,4], 'String': 'Maria', 'Tupla': (23,67)}\n",
        "print(dict3)"
      ],
      "metadata": {
        "id": "OsA86BvTLz0F"
      },
      "execution_count": null,
      "outputs": []
    },
    {
      "cell_type": "code",
      "source": [
        "# Exercício 9 - Crie uma lista de 4 elementos. O primeiro elemento deve ser uma string,\n",
        "# o segundo uma tupla de 2 elementos, o terceiro um dcionário com 2 chaves e 2 valores e\n",
        "# o quarto elemento um valor do tipo float.\n",
        "# Imprima a lista.\n",
        "\n",
        "list3 = ['Nome', (23,67), {'Idade': 34, 'Idade2': 12}, 9.0]\n",
        "print(list3)"
      ],
      "metadata": {
        "id": "59nssuXzL8yc"
      },
      "execution_count": null,
      "outputs": []
    },
    {
      "cell_type": "code",
      "source": [
        "# Exercício 10 - Considere a string abaixo. Imprima na tela apenas os caracteres da posição 1 a 18.\n",
        "frase = 'Cientista de Dados é o profissional mais sexy do século XXI'\n",
        "\n",
        "print(frase[0:18])"
      ],
      "metadata": {
        "id": "Lz4jnW8jL-Yo"
      },
      "execution_count": null,
      "outputs": []
    },
    {
      "cell_type": "code",
      "source": [],
      "metadata": {
        "id": "vVifrOkRPKgW"
      },
      "execution_count": null,
      "outputs": []
    }
  ]
}